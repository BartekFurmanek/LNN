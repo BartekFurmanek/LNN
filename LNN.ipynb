{
 "cells": [
  {
   "cell_type": "code",
   "execution_count": 235,
   "metadata": {},
   "outputs": [],
   "source": [
    "#imports\n",
    "import math\n",
    "import jax\n",
    "import jax.numpy as jnp\n",
    "from jax.experimental.ode import odeint\n",
    "import numpy as np\n",
    "from functools import partial\n"
   ]
  },
  {
   "cell_type": "code",
   "execution_count": 236,
   "metadata": {},
   "outputs": [],
   "source": [
    "#Definicja Lagrangianu dla pojedynńczego wachadła liczonego w sposób analityczny\n",
    "#Argumenty funkcji:\n",
    "#  -q   - położenie ciała\n",
    "#  -q_t - prędkość ciała\n",
    "#  -m   - masa ciała\n",
    "#  -l   - długość liny\n",
    "#  -g   - wartość przyśpieszenia ziemskiego\n",
    "#Zwracane: wartość Lagrangianu w danym momencie.\n",
    "def lagrangian_analitical(q, q_t, m, l, g):\n",
    "    #Eneriga kinetyczna\n",
    "    Ek=0.5*m*l*q_t**2\n",
    "    \n",
    "    #Energia potencjalna\n",
    "    Ep=m*g*(l-l*jnp.cos(q))\n",
    "    \n",
    "    #Lagrangian\n",
    "    return Ek-Ep\n",
    "  \n",
    "\n",
    "#Funkcja ma za zadanie reprezenotwanie równania różniczkowego, wynikającego z rozwiązania\n",
    "#równanie Eulera=Lagrange'a\n",
    "#Argumenty funkcji:\n",
    "#   -lagrangian - Funkcja opisująca Lagrangian. Funkcja musi być typu ,,callable'' żeby,\n",
    "#                 pochodne Lagrangianu zostały policzone.\n",
    "#   -state      - Wektor zawierający wartości początkowe położenia i prędkości\n",
    "#   -empty      - Aby ta funkcja mogła zostać poprawnie wywoływana w dalszej części programu\n",
    "#                 koniecznym było dodanie ,,pustego'' argumentu, które nie będzie pełnił żadnej\n",
    "#                 funkcji, ale pozwoli na poprawną kompilację\n",
    "#Zwracane: Wektor zawiercający przyśpieszenia oraz prędkości w danym momencie.\n",
    "def equation_of_motion(lagrangian, state, empty=None):\n",
    "    \n",
    "    #Podział współżędnych na położenia i prędkości\n",
    "    if len(state)==2:\n",
    "      q=state[0]\n",
    "      q_t=state[1]\n",
    "    else:\n",
    "      q, q_t = jnp.split(state,2)\n",
    "    \n",
    "    #Wyznaczenie przyśpieszenia przy użyciu lagrangianu (wersja wielowymiarowa)\n",
    "    q_tt = jax.numpy.linalg.pinv(jax.hessian(lagrangian, 1)(q, q_t)) @ (\n",
    "\t\tjax.grad(lagrangian, 0)(q, q_t)\n",
    "\t\t- jax.jacfwd(jax.grad(lagrangian, 1), 0)(q, q_t) @ q_t)\n",
    "    return jnp.concatenate([q_t, q_tt])\n",
    "  \n",
    "#Funkcja wyznaczająca równanie ruchu przy użyciu lagrangianui i solvera odeint.\n",
    "#Argumenty funkcji:\n",
    "#   -lagrangian     - Funkcja opisująca Lagrangian. Funkcja musi być typu ,,callable'' żeby,\n",
    "#                   pochodne Lagrangianu zostały policzone przy wywołaniu funkcji equation_of_motion\n",
    "#   -initial_state  - Wektor zawierający wartości początkowe położenia i prędkości\n",
    "#   -**kwargs       - Parametry wywołania solvera odeint\n",
    "#Zwracane: Wektor opisujący dalsze położenia ciała\n",
    "def solve_lagrangian(lagrangian, initial_state, **kwargs):\n",
    "  #Definicja równania różniczowego opisującego dynamikę układu\n",
    "  #Aby equation_of_motion zostało przekazane do solvera jako funkcja,\n",
    "  #a nie jako wynik jej wywołania, skorzystano z funkcji partial.\n",
    "  equation = partial(equation_of_motion, lagrangian)\n",
    "  \n",
    "  #Rozwiązanie równania przy użyciu solvera\n",
    "  return odeint(equation, initial_state, **kwargs)\n",
    "\n",
    "\n",
    "#Funkcja wyznaczająca równanie ruchu przy użyciu Lagrangianu wyznaczonego\n",
    "#w sposób analityczny\n",
    "#Argumenty funkcji:\n",
    "#   -initial_state - Początkowego położenie oraz prędkości\n",
    "#   -times         - Czas wyznaczanej trajektori\n",
    "#   -m             - masa wachadła\n",
    "#   -l             - długość liny wachadła\n",
    "#   -g             - przyśpieszenie ziemskie\n",
    "def solve_autograd(initial_state, times, m=1, l=1, g=9.8):\n",
    "  lagrangian = partial(lagrangian_analitical, m=m, l=l, g=g)\n",
    "  return solve_lagrangian(lagrangian, initial_state, t=times)"
   ]
  },
  {
   "cell_type": "code",
   "execution_count": 237,
   "metadata": {},
   "outputs": [],
   "source": [
    "x0 = np.array([3*np.pi/7, 0], dtype=np.float32)\n",
    "noise = np.random.RandomState(0).randn(x0.size)\n",
    "t = np.linspace(0, 40, num=401, dtype=np.float32)"
   ]
  },
  {
   "cell_type": "code",
   "execution_count": 242,
   "metadata": {},
   "outputs": [
    {
     "data": {
      "text/plain": [
       "Array([[ 1.3463968 ,  7.        ,  0.        ,  0.        ],\n",
       "       [ 1.2943919 ,  7.0106044 , -1.0476673 ,  0.2332048 ],\n",
       "       [ 1.1341046 ,  7.054241  , -2.1737695 ,  0.68464863],\n",
       "       ...,\n",
       "       [ 0.51981485,  8.339424  , -0.47119275, -0.95004636],\n",
       "       [ 0.45440513,  8.199368  , -0.80010355, -1.8659183 ],\n",
       "       [ 0.36996794,  7.962736  , -0.8231459 , -2.887571  ]],      dtype=float32)"
      ]
     },
     "execution_count": 242,
     "metadata": {},
     "output_type": "execute_result"
    }
   ],
   "source": [
    "solve_autograd(x0,t)"
   ]
  },
  {
   "cell_type": "code",
   "execution_count": null,
   "metadata": {},
   "outputs": [],
   "source": []
  }
 ],
 "metadata": {
  "kernelspec": {
   "display_name": "Python 3",
   "language": "python",
   "name": "python3"
  },
  "language_info": {
   "codemirror_mode": {
    "name": "ipython",
    "version": 3
   },
   "file_extension": ".py",
   "mimetype": "text/x-python",
   "name": "python",
   "nbconvert_exporter": "python",
   "pygments_lexer": "ipython3",
   "version": "3.10.12"
  }
 },
 "nbformat": 4,
 "nbformat_minor": 2
}
